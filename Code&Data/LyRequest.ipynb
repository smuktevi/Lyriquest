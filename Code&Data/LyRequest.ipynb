{
 "cells": [
  {
   "cell_type": "code",
   "execution_count": 125,
   "metadata": {},
   "outputs": [],
   "source": [
    "import requests\n",
    "from requests.auth import HTTPBasicAuth\n",
    "from bs4 import BeautifulSoup\n",
    "from requests_ntlm import HttpNtlmAuth\n",
    "import re\n",
    "import urllib\n",
    "import lxml.html\n",
    "import os, sys, json\n",
    "import pandas as pd\n",
    "import numpy as np\n",
    "import urllib\n",
    "from watson_developer_cloud import ToneAnalyzerV3\n",
    "from sklearn.preprocessing import MinMaxScaler"
   ]
  },
  {
   "cell_type": "code",
   "execution_count": 153,
   "metadata": {},
   "outputs": [],
   "source": [
    "def lyricwikia(title,artist_name):\n",
    "    url = \"http://lyrics.wikia.com/wiki/\"+artist_name+\":\"+title\n",
    "    page = requests.get(url)\n",
    "    lyrics = []\n",
    "\n",
    "    soup = BeautifulSoup(page.text, 'lxml')\n",
    "\n",
    "    m = soup.find(class_='lyricbox')\n",
    "\n",
    "    paragraphs = re.findall(r'<div class=\"lyricbox\">(.*?)<div class=\"lyricsbreak\">', str(soup))\n",
    "    p = paragraphs[0]\n",
    "\n",
    "    new_text = re.sub('<br/>', '\\n', p)\n",
    "    return new_text"
   ]
  },
  {
   "cell_type": "code",
   "execution_count": 127,
   "metadata": {},
   "outputs": [],
   "source": [
    "def get_playlist_tones(playlist):#top_songs):\n",
    "    play = []\n",
    "    for i in range(len(playlist)):\n",
    "    #for i in range(60): #taking the first 60 songs here for the playlist\n",
    "        artist_name= playlist[i][1]#top_songs.iloc[i, 2]\n",
    "        title = playlist[i][0]#top_songs.iloc[i, 3]\n",
    "        try:\n",
    "            lyr = lyricwikia(title,artist_name)\n",
    "        except:\n",
    "            print(\"\\nSONG NOT FOUND\\n\")\n",
    "            continue\n",
    "        tone_analyzer = ToneAnalyzerV3(\n",
    "            version='2019-02-17',\n",
    "            iam_apikey='6zSlji48p8DDphjnF_ZgfuU4pyP5PlXCk7LOEZq-YieR',\n",
    "            url='https://gateway-lon.watsonplatform.net/tone-analyzer/api'\n",
    "        )\n",
    "        text = lyr\n",
    "        if(len(lyr)==0):\n",
    "            continue\n",
    "        tone_analysis = tone_analyzer.tone(\n",
    "            {'text': text},\n",
    "            'application/json'\n",
    "        ).get_result()\n",
    "        print(i)\n",
    "        tone = tone_analysis['document_tone']['tones']\n",
    "        play.append([artist_name, title, tone])\n",
    "    return play"
   ]
  },
  {
   "cell_type": "code",
   "execution_count": 128,
   "metadata": {},
   "outputs": [],
   "source": [
    "def find_nearest(array, value, n):\n",
    "    array = np.asarray(array)\n",
    "    ele=[]\n",
    "    #print(\"In nearest\")\n",
    "    for i in range(n):\n",
    "        #print(i)\n",
    "        idx = (np.abs(array - value)).argmin()\n",
    "        if(idx not in ele):\n",
    "            ele.append(idx)\n",
    "        else:\n",
    "            i=i-1\n",
    "        alist = list(array)\n",
    "        alist.remove(array[idx])\n",
    "        array = np.asarray(alist)\n",
    "    print(\"NEAREST ELEMENTS TO ZERO:\",ele)\n",
    "    return ele"
   ]
  },
  {
   "cell_type": "code",
   "execution_count": 129,
   "metadata": {},
   "outputs": [],
   "source": [
    "def diff_matrix(data, hi_tones):\n",
    "    hi = np.array(hi_tones)\n",
    "    diff = data[:,hi[:,0].astype(int)] - hi[:,2].astype(float)\n",
    "    print(\"DIFFERENCE:\",diff)\n",
    "    return diff"
   ]
  },
  {
   "cell_type": "code",
   "execution_count": 130,
   "metadata": {},
   "outputs": [],
   "source": [
    "def plot_playlist(dkeys, avg_norm_playlist):\n",
    "    import matplotlib.pyplot as plt\n",
    "    plt.figure(figsize=(8, 4))  # width:20, height:3\n",
    "    plt.bar(dkeys,avg_norm, align='edge', width=0.7)\n",
    "    #plt.bar(dkeys,year_t[0], align='center', alpha=0.5)\n",
    "    plt.xticks(dkeys)\n",
    "    plt.ylabel('Score')\n",
    "    plt.xlabel('Tone')\n",
    "    plt.title(\"Playlist\")\n",
    "    plt.savefig(\"fig.png\", bbox_inches='tight')\n",
    "    plt.show()"
   ]
  },
  {
   "cell_type": "code",
   "execution_count": 142,
   "metadata": {},
   "outputs": [],
   "source": [
    "#playlist = [[\"Closer\" ,\"The Chainsmokers\"],[\"Body Like A Back Road\",\"Sam Hunt\"],[\"Believer\",\"Imagine Dragons\"],[\"Congratulations\",\"Post Malone\"],[\"Say You Won't Let Go\",\"James Arthur\"]]\n",
    "#playlist = [[\"Treat You Better\" ,\"Shawn Mendes\"],[\"A Thousand Years\",\"Christina Perri\"],[\"Hello\",\"Adele\"],[\"My Heart Will Go On\",\"Celine Dion\"],[\"Say You Won't Let Go\",\"James Arthur\"]]\n",
    "playlist = [[\"Happy\" ,\"Pharrell Williams\"],[\"Party In The USA\",\"Miley Cyrus\"],[\"The Lazy Song\",\"Bruno Mars\"],[\"I Gotta Feeling\",\"Black Eyed Peas\"],[\"Yeah!\",\"Usher\"]]"
   ]
  },
  {
   "cell_type": "markdown",
   "metadata": {},
   "source": [
    "# format playlist:"
   ]
  },
  {
   "cell_type": "code",
   "execution_count": 143,
   "metadata": {},
   "outputs": [
    {
     "name": "stdout",
     "output_type": "stream",
     "text": [
      "0\n",
      "1\n",
      "2\n",
      "3\n",
      "4\n"
     ]
    }
   ],
   "source": [
    "# PLAYLIST FROM USER-----top_songs = pd.read_csv(\"song_fulldata.csv\")\n",
    "play = get_playlist_tones(playlist) #get formatted playlist+scores\n",
    "playlist = pd.DataFrame(play)\n",
    "playlist = np.array(playlist)\n",
    "zeros_playlist = np.concatenate((playlist,np.zeros([playlist.shape[0],7])),axis = 1)\n",
    "dkeys = ['anger', 'fear', 'joy', 'sadness', 'analytical', 'confident']\n",
    "for i in range(zeros_playlist.shape[0]):\n",
    "    sc = zeros_playlist[i][2]\n",
    "    for j in range(len(sc)):\n",
    "        ind = dkeys.index(sc[j]['tone_id'])\n",
    "        zeros_playlist[i][ind+3] = sc[j]['score']\n",
    "final_playlist = np.delete(zeros_playlist, [2],1) #final playlist with scores"
   ]
  },
  {
   "cell_type": "code",
   "execution_count": 144,
   "metadata": {},
   "outputs": [
    {
     "name": "stdout",
     "output_type": "stream",
     "text": [
      "[['Pharrell Williams' 'Happy' 0.0 0.0 0.0 0.0 0.890923 0.0]\n",
      " ['Miley Cyrus' 'Party In The USA' 0.0 0.0 0.0 0.0 0.0 0.0]\n",
      " ['Bruno Mars' 'The Lazy Song' 0.517915 0.0 0.0 0.514931 0.0 0.0]\n",
      " ['Black Eyed Peas' 'I Gotta Feeling' 0.0 0.0 0.0 0.0 0.0 0.0]\n",
      " ['Usher' 'Yeah!' 0.0 0.673079 0.624373 0.0 0.0 0.0]]\n"
     ]
    }
   ],
   "source": [
    "final_playlist = np.array(final_playlist)\n",
    "final_playlist = final_playlist[:,:-1]\n",
    "print(final_playlist)"
   ]
  },
  {
   "cell_type": "code",
   "execution_count": 146,
   "metadata": {},
   "outputs": [
    {
     "name": "stdout",
     "output_type": "stream",
     "text": [
      "[[2, 'joy', 0.12487459999999999], [1, 'fear', 0.14458741571199332], [4, 'analytical', 0.18244599101206888]]\n"
     ]
    }
   ],
   "source": [
    "data = pd.read_csv(\"output_with_song.csv\")\n",
    "data = data.iloc[:,1:]\n",
    "minmax = MinMaxScaler()\n",
    "scaled_X = minmax.fit_transform(data.iloc[:, 3:-1])\n",
    "scaled_play = minmax.transform(final_playlist[:,2:])\n",
    "temp = sum(scaled_play)/scaled_play.shape[0]\n",
    "avg_norm = temp.copy()\n",
    "sorte = np.sort(avg_norm)\n",
    "max3 = sorte[-3:]\n",
    "hi_tones = []\n",
    "for i in max3:    \n",
    "    hi_tones.append([list(avg_norm).index(i),dkeys[list(avg_norm).index(i)],i])\n",
    "print(hi_tones)"
   ]
  },
  {
   "cell_type": "code",
   "execution_count": 149,
   "metadata": {},
   "outputs": [
    {
     "name": "stdout",
     "output_type": "stream",
     "text": [
      "DIFFERENCE: [[-0.1248746   0.39794487  0.33425356]\n",
      " [ 0.3974934  -0.14458742 -0.18244599]\n",
      " [-0.1248746  -0.14458742 -0.18244599]\n",
      " ...\n",
      " [ 0.4852874  -0.14458742 -0.18244599]\n",
      " [ 0.5273754  -0.14458742 -0.18244599]\n",
      " [-0.1248746  -0.14458742 -0.18244599]]\n",
      "NEAREST ELEMENTS TO ZERO: [1064, 1684, 1166, 1459, 1327]\n",
      "['anger', 'fear', 'joy', 'sadness', 'analytical', 'confident']\n",
      "RESULTS:\n",
      "[0.11097873 0.14458742 0.1248746  0.1029862  0.18244599 0.        ]\n"
     ]
    },
    {
     "data": {
      "image/png": "[encoded data removed]",
      "text/plain": [
       "<Figure size 576x288 with 1 Axes>"
      ]
     },
     "metadata": {
      "needs_background": "light"
     },
     "output_type": "display_data"
    },
    {
     "data": {
      "text/html": [
       "<div>\n",
       "<style scoped>\n",
       "    .dataframe tbody tr th:only-of-type {\n",
       "        vertical-align: middle;\n",
       "    }\n",
       "\n",
       "    .dataframe tbody tr th {\n",
       "        vertical-align: top;\n",
       "    }\n",
       "\n",
       "    .dataframe thead th {\n",
       "        text-align: right;\n",
       "    }\n",
       "</style>\n",
       "<table border=\"1\" class=\"dataframe\">\n",
       "  <thead>\n",
       "    <tr style=\"text-align: right;\">\n",
       "      <th></th>\n",
       "      <th>1</th>\n",
       "      <th>2</th>\n",
       "      <th>3</th>\n",
       "      <th>4</th>\n",
       "      <th>5</th>\n",
       "      <th>6</th>\n",
       "      <th>7</th>\n",
       "      <th>8</th>\n",
       "      <th>9</th>\n",
       "    </tr>\n",
       "  </thead>\n",
       "  <tbody>\n",
       "    <tr>\n",
       "      <th>1064</th>\n",
       "      <td>OneRepublic</td>\n",
       "      <td>Secrets</td>\n",
       "      <td>0.0</td>\n",
       "      <td>0.0</td>\n",
       "      <td>0.500264</td>\n",
       "      <td>0.00000</td>\n",
       "      <td>0.0</td>\n",
       "      <td>0.903862</td>\n",
       "      <td>0.000000</td>\n",
       "    </tr>\n",
       "    <tr>\n",
       "      <th>1684</th>\n",
       "      <td>Fifth Harmony</td>\n",
       "      <td>All In My Head</td>\n",
       "      <td>0.0</td>\n",
       "      <td>0.0</td>\n",
       "      <td>0.000000</td>\n",
       "      <td>0.00000</td>\n",
       "      <td>0.0</td>\n",
       "      <td>0.000000</td>\n",
       "      <td>0.000000</td>\n",
       "    </tr>\n",
       "    <tr>\n",
       "      <th>1166</th>\n",
       "      <td>David Guetta</td>\n",
       "      <td>Who's That Chick?</td>\n",
       "      <td>0.0</td>\n",
       "      <td>0.0</td>\n",
       "      <td>0.000000</td>\n",
       "      <td>0.51399</td>\n",
       "      <td>0.0</td>\n",
       "      <td>0.000000</td>\n",
       "      <td>0.775112</td>\n",
       "    </tr>\n",
       "    <tr>\n",
       "      <th>1459</th>\n",
       "      <td>Hozier</td>\n",
       "      <td>Take Me To Church</td>\n",
       "      <td>0.0</td>\n",
       "      <td>0.0</td>\n",
       "      <td>0.000000</td>\n",
       "      <td>0.00000</td>\n",
       "      <td>0.0</td>\n",
       "      <td>0.000000</td>\n",
       "      <td>0.000000</td>\n",
       "    </tr>\n",
       "    <tr>\n",
       "      <th>1327</th>\n",
       "      <td>Psy</td>\n",
       "      <td>Gangnam Style</td>\n",
       "      <td>0.0</td>\n",
       "      <td>0.0</td>\n",
       "      <td>0.694760</td>\n",
       "      <td>0.00000</td>\n",
       "      <td>0.0</td>\n",
       "      <td>0.000000</td>\n",
       "      <td>0.000000</td>\n",
       "    </tr>\n",
       "  </tbody>\n",
       "</table>\n",
       "</div>"
      ],
      "text/plain": [
       "                  1                  2    3    4         5        6    7  \\\n",
       "1064    OneRepublic            Secrets  0.0  0.0  0.500264  0.00000  0.0   \n",
       "1684  Fifth Harmony     All In My Head  0.0  0.0  0.000000  0.00000  0.0   \n",
       "1166   David Guetta  Who's That Chick?  0.0  0.0  0.000000  0.51399  0.0   \n",
       "1459         Hozier  Take Me To Church  0.0  0.0  0.000000  0.00000  0.0   \n",
       "1327            Psy      Gangnam Style  0.0  0.0  0.694760  0.00000  0.0   \n",
       "\n",
       "             8         9  \n",
       "1064  0.903862  0.000000  \n",
       "1684  0.000000  0.000000  \n",
       "1166  0.000000  0.775112  \n",
       "1459  0.000000  0.000000  \n",
       "1327  0.000000  0.000000  "
      ]
     },
     "execution_count": 149,
     "metadata": {},
     "output_type": "execute_result"
    }
   ],
   "source": [
    "%matplotlib inline\n",
    "dkeys = ['anger', 'fear', 'joy', 'sadness', 'analytical', 'confident']\n",
    "diff = diff_matrix(scaled_X, hi_tones)\n",
    "#print(np.sum(diff, axis = 1))\n",
    "diff_sums = np.sum(diff, axis = 1)\n",
    "nearest_val = find_nearest(diff_sums, 0.0 ,5)\n",
    "#print(nearest_val)\n",
    "#ind_nearest=[]\n",
    "#for i in nearest_val:\n",
    "#    ind_nearest.append(list(diff_sums).index(i))\n",
    "#print(ind_nearest)\n",
    "print(dkeys)\n",
    "print(\"RESULTS:\")\n",
    "print(avg_norm)\n",
    "plot_playlist(dkeys, avg_norm)\n",
    "data.iloc[nearest_val,1:]"
   ]
  }
 ],
 "metadata": {
  "kernelspec": {
   "display_name": "Python 3",
   "language": "python",
   "name": "python3"
  },
  "language_info": {
   "codemirror_mode": {
    "name": "ipython",
    "version": 3
   },
   "file_extension": ".py",
   "mimetype": "text/x-python",
   "name": "python",
   "nbconvert_exporter": "python",
   "pygments_lexer": "ipython3",
   "version": "3.7.1"
  }
 },
 "nbformat": 4,
 "nbformat_minor": 2
}
